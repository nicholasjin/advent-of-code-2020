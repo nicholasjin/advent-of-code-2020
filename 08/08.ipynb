{
 "cells": [
  {
   "cell_type": "markdown",
   "metadata": {},
   "source": [
    "# 07"
   ]
  },
  {
   "cell_type": "code",
   "execution_count": 14,
   "metadata": {},
   "outputs": [],
   "source": [
    "import string\n",
    "import re"
   ]
  },
  {
   "cell_type": "code",
   "execution_count": 1,
   "metadata": {},
   "outputs": [],
   "source": [
    "f = open(\"input\", \"r\")\n",
    "f = f.read()\n",
    "test = [\n",
    "    \n",
    "]"
   ]
  },
  {
   "cell_type": "code",
   "execution_count": 4,
   "metadata": {},
   "outputs": [],
   "source": [
    "tape = f.rstrip().split(\"\\n\")"
   ]
  },
  {
   "cell_type": "code",
   "execution_count": 10,
   "metadata": {},
   "outputs": [
    {
     "data": {
      "text/plain": [
       "1675"
      ]
     },
     "execution_count": 10,
     "metadata": {},
     "output_type": "execute_result"
    }
   ],
   "source": [
    "accumulator = 0\n",
    "pointer = 0\n",
    "visited = {}\n",
    "while pointer < len(tape):\n",
    "    try:\n",
    "        if visited[pointer]:\n",
    "            break\n",
    "    except:\n",
    "        visited[pointer] = True\n",
    "        \n",
    "    instruction = tape[pointer].split()[0]\n",
    "    argument = int(tape[pointer].split()[1])\n",
    "#     print(instruction, argument)\n",
    "    \n",
    "    if instruction == \"acc\":\n",
    "        accumulator += argument\n",
    "        pointer += 1\n",
    "    elif instruction == \"jmp\":\n",
    "        pointer += argument\n",
    "        \n",
    "    else:\n",
    "        pointer += 1\n",
    "accumulator"
   ]
  },
  {
   "cell_type": "markdown",
   "metadata": {},
   "source": [
    "# Part II"
   ]
  },
  {
   "cell_type": "code",
   "execution_count": 18,
   "metadata": {},
   "outputs": [],
   "source": [
    "def assert_no_loops(pointer):\n",
    "    new_tape = tape.copy()\n",
    "    inner_instruction = new_tape[pointer].split()[0]\n",
    "    inner_argument = new_tape[pointer].split()[1]\n",
    "    if instruction == \"jmp\":\n",
    "        new_tape[pointer] = \"nop \" + inner_argument\n",
    "    elif instruction == \"nop\":\n",
    "        new_tape[pointer] = \"jmp \" + inner_argument\n",
    "        \n",
    "    inner_accumulator = 0\n",
    "    inner_pointer = pointer\n",
    "    inner_visited = {}\n",
    "    \n",
    "    \n",
    "    while inner_pointer < len(new_tape):\n",
    "        try:\n",
    "            if inner_visited[inner_pointer]:\n",
    "                return 0\n",
    "        except:\n",
    "            inner_visited[inner_pointer] = True\n",
    "\n",
    "        inner_instruction = new_tape[inner_pointer].split()[0]\n",
    "        inner_argument = int(new_tape[inner_pointer].split()[1])\n",
    "    #     print(instruction, argument)\n",
    "\n",
    "        if inner_instruction == \"acc\":\n",
    "            inner_accumulator += inner_argument\n",
    "            inner_pointer += 1\n",
    "        elif inner_instruction == \"jmp\":\n",
    "            inner_pointer += inner_argument\n",
    "        else:\n",
    "            inner_pointer += 1\n",
    "    \n",
    "        \n",
    "    return inner_accumulator"
   ]
  },
  {
   "cell_type": "code",
   "execution_count": 19,
   "metadata": {},
   "outputs": [
    {
     "name": "stdout",
     "output_type": "stream",
     "text": [
      "1532\n"
     ]
    },
    {
     "data": {
      "text/plain": [
       "1532"
      ]
     },
     "execution_count": 19,
     "metadata": {},
     "output_type": "execute_result"
    }
   ],
   "source": [
    "accumulator = 0\n",
    "pointer = 0\n",
    "while pointer < len(tape):\n",
    "    instruction = tape[pointer].split()[0]\n",
    "    argument = int(tape[pointer].split()[1])\n",
    "\n",
    "    if instruction == \"acc\":\n",
    "        accumulator += argument\n",
    "        pointer += 1\n",
    "    elif instruction == \"jmp\":\n",
    "        is_not_loop = assert_no_loops(pointer)\n",
    "        if is_not_loop:\n",
    "            accumulator += is_not_loop\n",
    "            print(accumulator)\n",
    "            break\n",
    "        pointer += argument\n",
    "        \n",
    "    else:\n",
    "        pointer += 1\n",
    "accumulator"
   ]
  },
  {
   "cell_type": "code",
   "execution_count": null,
   "metadata": {},
   "outputs": [],
   "source": []
  }
 ],
 "metadata": {
  "kernelspec": {
   "display_name": "Python 3",
   "language": "python",
   "name": "python3"
  },
  "language_info": {
   "codemirror_mode": {
    "name": "ipython",
    "version": 3
   },
   "file_extension": ".py",
   "mimetype": "text/x-python",
   "name": "python",
   "nbconvert_exporter": "python",
   "pygments_lexer": "ipython3",
   "version": "3.8.3"
  }
 },
 "nbformat": 4,
 "nbformat_minor": 4
}
