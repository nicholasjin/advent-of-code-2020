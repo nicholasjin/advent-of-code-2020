{
 "cells": [
  {
   "cell_type": "code",
   "execution_count": 1,
   "metadata": {},
   "outputs": [],
   "source": [
    "import string\n",
    "import re\n",
    "import os\n",
    "from aocd import submit"
   ]
  },
  {
   "cell_type": "code",
   "execution_count": 2,
   "metadata": {},
   "outputs": [
    {
     "name": "stdout",
     "output_type": "stream",
     "text": [
      "data read successfully\n"
     ]
    }
   ],
   "source": [
    "try:\n",
    "    with open(\"input\") as f:\n",
    "        data = f.read()\n",
    "    print(\"data read successfully\")\n",
    "except:\n",
    "    from aocd import data\n",
    "    f = open(\"input\", \"w\")\n",
    "    f.write(data)\n",
    "    print(\"data imported and written successfully\")\n"
   ]
  },
  {
   "cell_type": "code",
   "execution_count": 3,
   "metadata": {
    "scrolled": true
   },
   "outputs": [
    {
     "data": {
      "text/plain": [
       "'30\\n73\\n84\\n136\\n132\\n117\\n65\\n161\\n49\\n68\\n139\\n46\\n21\\n127\\n109\\n153\\n163\\n160\\n18\\n22\\n131\\n146\\n62\\n113\\n172\\n150\\n171\\n98\\n93\\n130\\n170\\n59\\n1\\n110\\n2\\n55\\n37\\n44\\n148\\n102\\n40\\n28\\n35\\n43\\n56\\n169\\n33\\n5\\n141\\n83\\n15\\n105\\n142\\n36\\n116\\n11\\n45\\n82\\n10\\n17\\n159\\n140\\n12\\n108\\n29\\n72\\n121\\n52\\n91\\n166\\n88\\n97\\n118\\n99\\n124\\n149\\n16\\n9\\n143\\n104\\n57\\n79\\n123\\n58\\n96\\n24\\n162\\n23\\n92\\n69\\n147\\n156\\n25\\n133\\n34\\n8\\n85\\n76\\n103\\n122'"
      ]
     },
     "execution_count": 3,
     "metadata": {},
     "output_type": "execute_result"
    }
   ],
   "source": [
    "data"
   ]
  },
  {
   "cell_type": "markdown",
   "metadata": {},
   "source": [
    "# 10\n",
    "If we need to process the data in other ways (cast to ints/floats, split on \\n\\n, etc), do so here:"
   ]
  },
  {
   "cell_type": "code",
   "execution_count": 4,
   "metadata": {},
   "outputs": [],
   "source": [
    "data = [int(_) for _ in data.split(\"\\n\")]"
   ]
  },
  {
   "cell_type": "code",
   "execution_count": 5,
   "metadata": {},
   "outputs": [],
   "source": [
    "data.sort()\n",
    "data = [0] + data + [data[-1] + 3]"
   ]
  },
  {
   "cell_type": "code",
   "execution_count": 6,
   "metadata": {},
   "outputs": [],
   "source": [
    "diffs = [i-j for i,j in zip(data[1:], data[:-1])] "
   ]
  },
  {
   "cell_type": "code",
   "execution_count": 7,
   "metadata": {},
   "outputs": [],
   "source": [
    "answer_a = diffs.count(3) * diffs.count(1)"
   ]
  },
  {
   "cell_type": "code",
   "execution_count": 8,
   "metadata": {},
   "outputs": [
    {
     "name": "stdout",
     "output_type": "stream",
     "text": [
      "Part a already solved with same answer: 2368\n"
     ]
    }
   ],
   "source": [
    "submit(answer_a, part=\"a\", day=10, year=2020)"
   ]
  },
  {
   "cell_type": "markdown",
   "metadata": {},
   "source": [
    "# Part II"
   ]
  },
  {
   "cell_type": "code",
   "execution_count": 9,
   "metadata": {},
   "outputs": [],
   "source": [
    "ones = [_ for _ in \"\".join([str(_) for _ in diffs]).split(\"3\") if _]"
   ]
  },
  {
   "cell_type": "code",
   "execution_count": 10,
   "metadata": {},
   "outputs": [
    {
     "data": {
      "text/plain": [
       "['11',\n",
       " '1111',\n",
       " '111',\n",
       " '1111',\n",
       " '11',\n",
       " '1111',\n",
       " '111',\n",
       " '1111',\n",
       " '1',\n",
       " '1',\n",
       " '111',\n",
       " '11',\n",
       " '111',\n",
       " '111',\n",
       " '11',\n",
       " '11',\n",
       " '111',\n",
       " '111',\n",
       " '1111',\n",
       " '1111',\n",
       " '1111',\n",
       " '111']"
      ]
     },
     "execution_count": 10,
     "metadata": {},
     "output_type": "execute_result"
    }
   ],
   "source": [
    "ones"
   ]
  },
  {
   "cell_type": "code",
   "execution_count": 11,
   "metadata": {},
   "outputs": [],
   "source": [
    "# I did this by hand because I'm dumb\n",
    "def permute_num(a):\n",
    "    if a == 1:\n",
    "        return 1\n",
    "    if a == 2:\n",
    "        return 2\n",
    "    if a == 3:\n",
    "        return 4\n",
    "    if a == 4:\n",
    "        return 7"
   ]
  },
  {
   "cell_type": "code",
   "execution_count": 12,
   "metadata": {},
   "outputs": [],
   "source": [
    "product = 1"
   ]
  },
  {
   "cell_type": "code",
   "execution_count": 13,
   "metadata": {
    "scrolled": true
   },
   "outputs": [],
   "source": [
    "for one in ones:\n",
    "    product *= permute_num(len(one))"
   ]
  },
  {
   "cell_type": "code",
   "execution_count": 14,
   "metadata": {},
   "outputs": [
    {
     "data": {
      "text/plain": [
       "1727094849536"
      ]
     },
     "execution_count": 14,
     "metadata": {},
     "output_type": "execute_result"
    }
   ],
   "source": [
    "product"
   ]
  },
  {
   "cell_type": "code",
   "execution_count": 15,
   "metadata": {},
   "outputs": [
    {
     "name": "stdout",
     "output_type": "stream",
     "text": [
      "Part b already solved with same answer: 1727094849536\n"
     ]
    }
   ],
   "source": [
    "submit(product, part=\"b\", day=10, year=2020)"
   ]
  },
  {
   "cell_type": "code",
   "execution_count": null,
   "metadata": {},
   "outputs": [],
   "source": []
  }
 ],
 "metadata": {
  "kernelspec": {
   "display_name": "Python 3",
   "language": "python",
   "name": "python3"
  },
  "language_info": {
   "codemirror_mode": {
    "name": "ipython",
    "version": 3
   },
   "file_extension": ".py",
   "mimetype": "text/x-python",
   "name": "python",
   "nbconvert_exporter": "python",
   "pygments_lexer": "ipython3",
   "version": "3.8.3"
  }
 },
 "nbformat": 4,
 "nbformat_minor": 4
}
