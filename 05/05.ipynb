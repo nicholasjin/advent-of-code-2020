{
 "cells": [
  {
   "cell_type": "markdown",
   "metadata": {},
   "source": [
    "# 05"
   ]
  },
  {
   "cell_type": "code",
   "execution_count": 1,
   "metadata": {},
   "outputs": [],
   "source": [
    "f = open(\"input\", \"r\")\n",
    "f = [line for line in f]\n",
    "test = [\n",
    "    \n",
    "]\n"
   ]
  },
  {
   "cell_type": "markdown",
   "metadata": {},
   "source": [
    "I implemented a binary tree traverser before I realized that this was just a binary encoding. Big yikes!"
   ]
  },
  {
   "cell_type": "code",
   "execution_count": 2,
   "metadata": {},
   "outputs": [
    {
     "data": {
      "text/plain": [
       "1"
      ]
     },
     "execution_count": 2,
     "metadata": {},
     "output_type": "execute_result"
    }
   ],
   "source": [
    "def parse_frontback(string):\n",
    "    return int(string.replace(\"F\", \"0\").replace(\"B\",\"1\"),2)\n",
    "\n",
    "parse_frontback(\"FFFFFFB\")\n"
   ]
  },
  {
   "cell_type": "code",
   "execution_count": 3,
   "metadata": {},
   "outputs": [
    {
     "name": "stdout",
     "output_type": "stream",
     "text": [
      "871\n"
     ]
    }
   ],
   "source": [
    "maxID = 0\n",
    "for ticket in f:\n",
    "    frontback = ticket[:7]\n",
    "    rightleft = ticket[7:-1]\n",
    "    back = 128\n",
    "    front = 0\n",
    "    \n",
    "    row = parse_frontback(frontback)\n",
    "    column = int(rightleft.replace(\"L\", \"0\").replace(\"R\",\"1\"),2)\n",
    "    seatID = row * 8 + column\n",
    "    if seatID > maxID:\n",
    "        maxID = seatID\n",
    "print(maxID)"
   ]
  },
  {
   "cell_type": "markdown",
   "metadata": {},
   "source": [
    "# Part II"
   ]
  },
  {
   "cell_type": "code",
   "execution_count": 4,
   "metadata": {},
   "outputs": [],
   "source": [
    "seatIDs = []\n",
    "for ticket in f:\n",
    "    frontback = ticket[:7]\n",
    "    rightleft = ticket[7:-1]\n",
    "    back = 128\n",
    "    front = 0\n",
    "    \n",
    "    row = parse_frontback(frontback)\n",
    "    column = int(rightleft.replace(\"L\", \"0\").replace(\"R\",\"1\"),2)\n",
    "    seatID = row * 8 + column\n",
    "    seatIDs.append(seatID)"
   ]
  },
  {
   "cell_type": "code",
   "execution_count": 5,
   "metadata": {},
   "outputs": [],
   "source": [
    "seatIDs.sort()"
   ]
  },
  {
   "cell_type": "code",
   "execution_count": 6,
   "metadata": {},
   "outputs": [],
   "source": [
    "# seatIDs"
   ]
  },
  {
   "cell_type": "code",
   "execution_count": 7,
   "metadata": {},
   "outputs": [
    {
     "name": "stdout",
     "output_type": "stream",
     "text": [
      "639 641\n"
     ]
    }
   ],
   "source": [
    "for i,j in zip(seatIDs[:-1], seatIDs[1:]):\n",
    "    if j - i != 1:\n",
    "        print(i, j)"
   ]
  }
 ],
 "metadata": {
  "kernelspec": {
   "display_name": "Python 3",
   "language": "python",
   "name": "python3"
  },
  "language_info": {
   "codemirror_mode": {
    "name": "ipython",
    "version": 3
   },
   "file_extension": ".py",
   "mimetype": "text/x-python",
   "name": "python",
   "nbconvert_exporter": "python",
   "pygments_lexer": "ipython3",
   "version": "3.8.3"
  }
 },
 "nbformat": 4,
 "nbformat_minor": 4
}
