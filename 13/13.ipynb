{
 "cells": [
  {
   "cell_type": "markdown",
   "metadata": {},
   "source": [
    "# 13"
   ]
  },
  {
   "cell_type": "code",
   "execution_count": 7,
   "metadata": {},
   "outputs": [],
   "source": [
    "day = 13\n",
    "year = 2020"
   ]
  },
  {
   "cell_type": "code",
   "execution_count": 4,
   "metadata": {},
   "outputs": [],
   "source": [
    "from datetime import date, datetime\n",
    "import string\n",
    "import re\n",
    "import os\n",
    "import numpy as np\n",
    "import matplotlib.pyplot as plt\n",
    "import gif\n",
    "from aocd import submit"
   ]
  },
  {
   "cell_type": "code",
   "execution_count": 9,
   "metadata": {},
   "outputs": [
    {
     "name": "stdout",
     "output_type": "stream",
     "text": [
      "data imported and written successfully\n"
     ]
    }
   ],
   "source": [
    "try:\n",
    "    with open(\"input\") as f:\n",
    "        data = f.read()\n",
    "    print(\"data read successfully\")\n",
    "except:\n",
    "    from aocd import data\n",
    "    f = open(\"input\", \"w\")\n",
    "    f.write(data)\n",
    "    print(\"data imported and written successfully\")\n"
   ]
  },
  {
   "cell_type": "code",
   "execution_count": 10,
   "metadata": {},
   "outputs": [
    {
     "data": {
      "text/plain": [
       "['1000434',\n",
       " '17,x,x,x,x,x,x,41,x,x,x,x,x,x,x,x,x,983,x,29,x,x,x,x,x,x,x,x,x,x,x,x,x,x,x,x,19,x,x,x,23,x,x,x,x,x,x,x,397,x,x,x,x,x,37,x,x,x,x,x,x,13']"
      ]
     },
     "execution_count": 10,
     "metadata": {},
     "output_type": "execute_result"
    }
   ],
   "source": [
    "data.split(\"\\n\")"
   ]
  },
  {
   "cell_type": "markdown",
   "metadata": {},
   "source": [
    "# Part I\n",
    "\n",
    "If we need to process the data in other ways (cast to ints/floats, split on \\n\\n, etc), do so here:"
   ]
  },
  {
   "cell_type": "code",
   "execution_count": 11,
   "metadata": {},
   "outputs": [],
   "source": [
    "data = data.split(\"\\n\")"
   ]
  },
  {
   "cell_type": "code",
   "execution_count": 20,
   "metadata": {},
   "outputs": [],
   "source": [
    "timestamp = int(data[0])\n",
    "routes = data[1].replace(\"x,\", \"\")\n",
    "routes = [int(_) for _ in routes.split(\",\")]"
   ]
  },
  {
   "cell_type": "code",
   "execution_count": 25,
   "metadata": {},
   "outputs": [
    {
     "name": "stdout",
     "output_type": "stream",
     "text": [
      "2382\n"
     ]
    }
   ],
   "source": [
    "i = 0\n",
    "waiting = True\n",
    "while(waiting):\n",
    "    for route in routes:\n",
    "        if (timestamp + i)%route == 0:\n",
    "            print(route * i)\n",
    "            waiting = False\n",
    "    i+= 1"
   ]
  },
  {
   "cell_type": "code",
   "execution_count": null,
   "metadata": {},
   "outputs": [],
   "source": [
    "submit(answer_a, part=\"a\", day=day, year=year)"
   ]
  },
  {
   "cell_type": "markdown",
   "metadata": {},
   "source": [
    "# Part II"
   ]
  },
  {
   "cell_type": "code",
   "execution_count": 1,
   "metadata": {},
   "outputs": [
    {
     "name": "stdout",
     "output_type": "stream",
     "text": [
      "data read successfully\n"
     ]
    }
   ],
   "source": [
    "try:\n",
    "    with open(\"input\") as f:\n",
    "        data = f.read()\n",
    "    print(\"data read successfully\")\n",
    "except:\n",
    "    from aocd import data\n",
    "    f = open(\"input\", \"w\")\n",
    "    f.write(data)\n",
    "    print(\"data imported and written successfully\")\n"
   ]
  },
  {
   "cell_type": "code",
   "execution_count": 2,
   "metadata": {},
   "outputs": [
    {
     "data": {
      "text/plain": [
       "{0: 17, 7: 41, 17: 983, 19: 29, 36: 19, 40: 23, 48: 397, 54: 37, 61: 13}"
      ]
     },
     "execution_count": 2,
     "metadata": {},
     "output_type": "execute_result"
    }
   ],
   "source": [
    "data = data.split(\"\\n\")[1].split(\",\")\n",
    "{i: int(route) for i,route in enumerate(data) if route.isnumeric()}"
   ]
  },
  {
   "cell_type": "code",
   "execution_count": 3,
   "metadata": {},
   "outputs": [],
   "source": [
    "data = {i: int(route) for i,route in enumerate(data) if route.isnumeric()}"
   ]
  },
  {
   "cell_type": "code",
   "execution_count": 7,
   "metadata": {},
   "outputs": [
    {
     "name": "stdout",
     "output_type": "stream",
     "text": [
      "{0: 17, 7: 41, 17: 983, 19: 29, 36: 19, 40: 23, 48: 397, 54: 37, 61: 13}\n"
     ]
    }
   ],
   "source": [
    "print(data)"
   ]
  },
  {
   "cell_type": "markdown",
   "metadata": {},
   "source": [
    "From https://codereview.stackexchange.com/questions/240198/extended-euclidean-algorithm"
   ]
  },
  {
   "cell_type": "code",
   "execution_count": 5,
   "metadata": {},
   "outputs": [],
   "source": [
    "from collections import deque\n",
    "from typing import Tuple\n",
    "\n",
    "def extended_euclidean(a: int, b: int) -> Tuple[int, int, int]:\n",
    "    \"\"\"\n",
    "    Returns (gcd, x, y) such that:\n",
    "       gcd  = greatest common divisor of (a, b)\n",
    "       x, y = coefficients such that ax + by = gcd\n",
    "    \"\"\"\n",
    "    # We only need to keep the last two elements of each series.\n",
    "    r = deque([b, a], 2)\n",
    "    s = deque([0, 1], 2)\n",
    "    t = deque([1, 0], 2)\n",
    "\n",
    "    # The next element of each series is a function of the previous two.\n",
    "    # We stop building these series once r (the remainder) is zero; \n",
    "    # the final result comes from the iteration prior to that one.\n",
    "    while r[-1] != 0:\n",
    "        q = r[-2] // r[-1]\n",
    "        r.append(r[-2] % r[-1])\n",
    "        s.append(s[-2] - s[-1] * q)\n",
    "        t.append(t[-2] - t[-1] * q)\n",
    "\n",
    "    return r[-2], s[-2], t[-2]\n",
    "\n",
    "assert extended_euclidean(240, 46) == (2, -9, 47)"
   ]
  },
  {
   "cell_type": "code",
   "execution_count": 98,
   "metadata": {},
   "outputs": [
    {
     "name": "stdout",
     "output_type": "stream",
     "text": [
      "pre-computation:  17 13\n",
      "-3 4\n",
      "x:  -102\n",
      "119 221\n",
      "pre-computation:  221 19\n",
      "8 -93\n",
      "x:  -204969\n",
      "782 4199\n",
      "782\n"
     ]
    }
   ],
   "source": [
    "initialized = False\n",
    "newdata = {0:17, 2:13, 3:19}\n",
    "# newdata = {0:3, 3:4, 4:5}\n",
    "del a1\n",
    "for key in newdata.keys():\n",
    "    try:\n",
    "        a1\n",
    "    except:\n",
    "        a1 = key\n",
    "        n1 = newdata[key]\n",
    "        continue\n",
    "    \n",
    "    a2 = key\n",
    "    n2 = newdata[key]\n",
    "    print(\"pre-computation: \", n1, n2)\n",
    "    (gcd, m1, m2) = extended_euclidean(n1, n2)\n",
    "    print(m1, m2)\n",
    "    x = a1*m2*n2 + a2*m1*n1\n",
    "    print(\"x: \", x)\n",
    "    a1 = x\n",
    "    n1 = n1 * n2\n",
    "    a1 %= n1\n",
    "    print(a1, n1)\n",
    "#     print(x, n1)\n",
    "print(x%n1)\n",
    "# for key,value in data.items():\n",
    "#     if not initialized:\n",
    "#         current = (key,value)\n",
    "#         continue\n",
    "    \n",
    "#     print(key,value)"
   ]
  },
  {
   "cell_type": "code",
   "execution_count": 101,
   "metadata": {},
   "outputs": [
    {
     "name": "stdout",
     "output_type": "stream",
     "text": [
      "751731698158528\n"
     ]
    }
   ],
   "source": [
    "# Python 3.6\n",
    "from functools import reduce\n",
    "def chinese_remainder(n, a):\n",
    "    sum = 0\n",
    "    prod = reduce(lambda a, b: a*b, n)\n",
    "    for n_i, a_i in zip(n, a):\n",
    "        p = prod // n_i\n",
    "        sum += a_i * mul_inv(p, n_i) * p\n",
    "    return sum % prod\n",
    " \n",
    " \n",
    " \n",
    "def mul_inv(a, b):\n",
    "    b0 = b\n",
    "    x0, x1 = 0, 1\n",
    "    if b == 1: return 1\n",
    "    while a > 1:\n",
    "        q = a // b\n",
    "        a, b = b, a%b\n",
    "        x0, x1 = x1 - q * x0, x0\n",
    "    if x1 < 0: x1 += b0\n",
    "    return x1\n",
    " \n",
    " \n",
    " \n",
    "if __name__ == '__main__':\n",
    "    n = data.values()\n",
    "    a = data.keys()\n",
    "    print(chinese_remainder(n, a))"
   ]
  },
  {
   "cell_type": "code",
   "execution_count": 108,
   "metadata": {},
   "outputs": [
    {
     "name": "stdout",
     "output_type": "stream",
     "text": [
      "(x+0) mod 17=0,  (x+7) mod 41=0,  (x+17) mod 983=0,  (x+19) mod 29=0,  (x+36) mod 19=0,  (x+40) mod 23=0,  (x+48) mod 397=0,  (x+54) mod 37=0,  (x+61) mod 13=0,  "
     ]
    }
   ],
   "source": [
    "for key,value in data.items():\n",
    "    print(\"(x+\",key,\") mod \", value,\"=0, \", sep = \"\", end=\" \")"
   ]
  },
  {
   "cell_type": "markdown",
   "metadata": {},
   "source": [
    "Thank you wolfram alpha."
   ]
  },
  {
   "cell_type": "code",
   "execution_count": 68,
   "metadata": {},
   "outputs": [
    {
     "name": "stderr",
     "output_type": "stream",
     "text": [
      "wrong answer: 2844\n"
     ]
    },
    {
     "name": "stdout",
     "output_type": "stream",
     "text": [
      "\u001b[31mThat's not the right answer; your answer is too high.  If you're stuck, make sure you're using the full input data; there are also some general tips on the about page, or you can ask for hints on the subreddit.  Please wait one minute before trying again. (You guessed 2844.) [Return to Day 11]\u001b[0m\n"
     ]
    },
    {
     "data": {
      "text/plain": [
       "<Response [200]>"
      ]
     },
     "execution_count": 68,
     "metadata": {},
     "output_type": "execute_result"
    }
   ],
   "source": [
    "submit(answer_b, part=\"b\", day=day, year=year)"
   ]
  }
 ],
 "metadata": {
  "kernelspec": {
   "display_name": "Python 3",
   "language": "python",
   "name": "python3"
  },
  "language_info": {
   "codemirror_mode": {
    "name": "ipython",
    "version": 3
   },
   "file_extension": ".py",
   "mimetype": "text/x-python",
   "name": "python",
   "nbconvert_exporter": "python",
   "pygments_lexer": "ipython3",
   "version": "3.8.3"
  }
 },
 "nbformat": 4,
 "nbformat_minor": 4
}
