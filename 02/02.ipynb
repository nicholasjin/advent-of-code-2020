{
 "cells": [
  {
   "cell_type": "markdown",
   "metadata": {},
   "source": [
    "# 02\n"
   ]
  },
  {
   "cell_type": "code",
   "execution_count": 1,
   "metadata": {},
   "outputs": [],
   "source": [
    "f = open(\"02.txt\", \"r\")\n",
    "passwords = [line for line in f]"
   ]
  },
  {
   "cell_type": "code",
   "execution_count": 2,
   "metadata": {},
   "outputs": [
    {
     "data": {
      "text/plain": [
       "424"
      ]
     },
     "execution_count": 2,
     "metadata": {},
     "output_type": "execute_result"
    }
   ],
   "source": [
    "total = 0\n",
    "for password in passwords:\n",
    "    splitter = password.split()\n",
    "    lower = int(splitter[0].split(\"-\")[0])\n",
    "    upper = int(splitter[0].split(\"-\")[1])\n",
    "    letter = splitter[1][0]\n",
    "    target = splitter[2]\n",
    "    \n",
    "    count = target.count(letter)\n",
    "#     print(splitter, lower, upper, letter, target)\n",
    "    total += (lower <= count) and (count <= upper)\n",
    "total"
   ]
  },
  {
   "cell_type": "markdown",
   "metadata": {},
   "source": [
    "# Part II"
   ]
  },
  {
   "cell_type": "code",
   "execution_count": 3,
   "metadata": {},
   "outputs": [
    {
     "data": {
      "text/plain": [
       "747"
      ]
     },
     "execution_count": 3,
     "metadata": {},
     "output_type": "execute_result"
    }
   ],
   "source": [
    "total = 0\n",
    "for password in passwords:\n",
    "    splitter = password.split()\n",
    "    lower = int(splitter[0].split(\"-\")[0])\n",
    "    upper = int(splitter[0].split(\"-\")[1])\n",
    "    letter = splitter[1][0]\n",
    "    target = splitter[2]\n",
    "    \n",
    "    count = target.count(letter)\n",
    "#     print(splitter, lower, upper, letter, target)\n",
    "    total += (target[upper-1] == letter) ^ (target[lower-1]==letter)\n",
    "total"
   ]
  }
 ],
 "metadata": {
  "kernelspec": {
   "display_name": "Python 3",
   "language": "python",
   "name": "python3"
  },
  "language_info": {
   "codemirror_mode": {
    "name": "ipython",
    "version": 3
   },
   "file_extension": ".py",
   "mimetype": "text/x-python",
   "name": "python",
   "nbconvert_exporter": "python",
   "pygments_lexer": "ipython3",
   "version": "3.8.3"
  }
 },
 "nbformat": 4,
 "nbformat_minor": 4
}
