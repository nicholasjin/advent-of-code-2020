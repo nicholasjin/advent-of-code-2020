{
 "cells": [
  {
   "cell_type": "markdown",
   "metadata": {},
   "source": [
    "# 15"
   ]
  },
  {
   "cell_type": "code",
   "execution_count": 1,
   "metadata": {},
   "outputs": [],
   "source": [
    "day = 15\n",
    "year = 2020"
   ]
  },
  {
   "cell_type": "code",
   "execution_count": 2,
   "metadata": {},
   "outputs": [],
   "source": [
    "from datetime import date, datetime\n",
    "import string\n",
    "import re\n",
    "import os\n",
    "import numpy as np\n",
    "import matplotlib.pyplot as plt\n",
    "import gif\n",
    "from aocd import submit"
   ]
  },
  {
   "cell_type": "code",
   "execution_count": 6,
   "metadata": {},
   "outputs": [
    {
     "name": "stdout",
     "output_type": "stream",
     "text": [
      "data read successfully\n"
     ]
    }
   ],
   "source": [
    "try:\n",
    "    with open(\"input\") as f:\n",
    "        data = f.read()\n",
    "    print(\"data read successfully\")\n",
    "except:\n",
    "    from aocd import data\n",
    "    f = open(\"input\", \"w\")\n",
    "    f.write(data)\n",
    "    print(\"data imported and written successfully\")\n"
   ]
  },
  {
   "cell_type": "code",
   "execution_count": 7,
   "metadata": {},
   "outputs": [
    {
     "data": {
      "text/plain": [
       "'17,1,3,16,19,0'"
      ]
     },
     "execution_count": 7,
     "metadata": {},
     "output_type": "execute_result"
    }
   ],
   "source": [
    "data"
   ]
  },
  {
   "cell_type": "code",
   "execution_count": 4,
   "metadata": {},
   "outputs": [
    {
     "data": {
      "text/plain": [
       "['17,1,3,16,19,0']"
      ]
     },
     "execution_count": 4,
     "metadata": {},
     "output_type": "execute_result"
    }
   ],
   "source": [
    "data.split(\"\\n\")"
   ]
  },
  {
   "cell_type": "markdown",
   "metadata": {},
   "source": [
    "# Part I\n",
    "\n",
    "If we need to process the data in other ways (cast to ints/floats, split on \\n\\n, etc), do so here:"
   ]
  },
  {
   "cell_type": "code",
   "execution_count": 5,
   "metadata": {},
   "outputs": [],
   "source": [
    "data = data.split(\"\\n\")"
   ]
  },
  {
   "cell_type": "code",
   "execution_count": 11,
   "metadata": {},
   "outputs": [],
   "source": [
    "test = \"0,3,6\""
   ]
  },
  {
   "cell_type": "code",
   "execution_count": 53,
   "metadata": {},
   "outputs": [],
   "source": [
    "i = 0\n",
    "cache = {}\n",
    "for num in data.split(\",\"):\n",
    "    cache[int(num)] = [i]\n",
    "    i += 1\n",
    "last = int(data.split(\",\")[-1])"
   ]
  },
  {
   "cell_type": "code",
   "execution_count": 54,
   "metadata": {},
   "outputs": [
    {
     "data": {
      "text/plain": [
       "{17: [0], 1: [1], 3: [2], 16: [3], 19: [4], 0: [5]}"
      ]
     },
     "execution_count": 54,
     "metadata": {},
     "output_type": "execute_result"
    }
   ],
   "source": [
    "cache"
   ]
  },
  {
   "cell_type": "code",
   "execution_count": 55,
   "metadata": {},
   "outputs": [
    {
     "name": "stdout",
     "output_type": "stream",
     "text": [
      "current iteration:  1000000\n",
      "current iteration:  2000000\n",
      "current iteration:  3000000\n",
      "current iteration:  4000000\n",
      "current iteration:  5000000\n",
      "current iteration:  6000000\n",
      "current iteration:  7000000\n",
      "current iteration:  8000000\n",
      "current iteration:  9000000\n",
      "current iteration:  10000000\n",
      "current iteration:  11000000\n",
      "current iteration:  12000000\n",
      "current iteration:  13000000\n",
      "current iteration:  14000000\n",
      "current iteration:  15000000\n",
      "current iteration:  16000000\n",
      "current iteration:  17000000\n",
      "current iteration:  18000000\n",
      "current iteration:  19000000\n",
      "current iteration:  20000000\n",
      "current iteration:  21000000\n",
      "current iteration:  22000000\n",
      "current iteration:  23000000\n",
      "current iteration:  24000000\n",
      "current iteration:  25000000\n",
      "current iteration:  26000000\n",
      "current iteration:  27000000\n",
      "current iteration:  28000000\n",
      "current iteration:  29000000\n"
     ]
    }
   ],
   "source": [
    "while i < 30000000:\n",
    "    if i%1000000 == 0:\n",
    "        print(\"current iteration: \", str(i))\n",
    "#     print(\"current iteration: \" + str(i), \", last number: \" + str(lastnum))\n",
    "    try:\n",
    "#         print(cache[lastnum][-1])\n",
    "#         print(cache[lastnum][-2])\n",
    "        lastnum = cache[lastnum][-1] - cache[lastnum][-2]\n",
    "        try:\n",
    "            cache[lastnum].append(i)\n",
    "        except:\n",
    "            cache[lastnum] = [i]\n",
    "    except:\n",
    "        lastnum = 0\n",
    "        cache[0].append(i)\n",
    "    \n",
    "    \n",
    "    i += 1"
   ]
  },
  {
   "cell_type": "code",
   "execution_count": 56,
   "metadata": {},
   "outputs": [
    {
     "data": {
      "text/plain": [
       "21768614"
      ]
     },
     "execution_count": 56,
     "metadata": {},
     "output_type": "execute_result"
    }
   ],
   "source": [
    "lastnum"
   ]
  },
  {
   "cell_type": "code",
   "execution_count": 45,
   "metadata": {},
   "outputs": [
    {
     "data": {
      "text/plain": [
       "{17: [0],\n",
       " 1: [1, 7, 15],\n",
       " 3: [2, 10, 13, 14],\n",
       " 16: [3],\n",
       " 19: [4],\n",
       " 0: [5, 6, 9, 12, 18],\n",
       " 6: [8, 19],\n",
       " 8: [11, 16],\n",
       " 5: [17]}"
      ]
     },
     "execution_count": 45,
     "metadata": {},
     "output_type": "execute_result"
    }
   ],
   "source": [
    "cache"
   ]
  },
  {
   "cell_type": "code",
   "execution_count": null,
   "metadata": {},
   "outputs": [],
   "source": [
    "submit(answer_a, part=\"a\", day=day, year=year)"
   ]
  },
  {
   "cell_type": "markdown",
   "metadata": {},
   "source": [
    "# Part II"
   ]
  },
  {
   "cell_type": "markdown",
   "metadata": {},
   "source": [
    "See above"
   ]
  },
  {
   "cell_type": "code",
   "execution_count": 68,
   "metadata": {},
   "outputs": [
    {
     "name": "stderr",
     "output_type": "stream",
     "text": [
      "wrong answer: 2844\n"
     ]
    },
    {
     "name": "stdout",
     "output_type": "stream",
     "text": [
      "\u001b[31mThat's not the right answer; your answer is too high.  If you're stuck, make sure you're using the full input data; there are also some general tips on the about page, or you can ask for hints on the subreddit.  Please wait one minute before trying again. (You guessed 2844.) [Return to Day 11]\u001b[0m\n"
     ]
    },
    {
     "data": {
      "text/plain": [
       "<Response [200]>"
      ]
     },
     "execution_count": 68,
     "metadata": {},
     "output_type": "execute_result"
    }
   ],
   "source": [
    "submit(answer_b, part=\"b\", day=day, year=year)"
   ]
  }
 ],
 "metadata": {
  "kernelspec": {
   "display_name": "Python 3",
   "language": "python",
   "name": "python3"
  },
  "language_info": {
   "codemirror_mode": {
    "name": "ipython",
    "version": 3
   },
   "file_extension": ".py",
   "mimetype": "text/x-python",
   "name": "python",
   "nbconvert_exporter": "python",
   "pygments_lexer": "ipython3",
   "version": "3.8.3"
  }
 },
 "nbformat": 4,
 "nbformat_minor": 4
}
