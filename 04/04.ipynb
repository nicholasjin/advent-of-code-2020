{
 "cells": [
  {
   "cell_type": "markdown",
   "metadata": {},
   "source": [
    "# 03\n"
   ]
  },
  {
   "cell_type": "code",
   "execution_count": 53,
   "metadata": {},
   "outputs": [],
   "source": [
    "f = open(\"input\", \"r\")\n",
    "grid = [line for line in f]\n",
    "test = [\n",
    "    \"ecl:gry pid:860033327 eyr:2020 hcl:#fffffd byr:1937 iyr:2017 cid:147 hgt:183cm\\n\",\n",
    "    \"iyr:2013 ecl:amb cid:350 eyr:2023 pid:028048884 hcl:#cfa07d byr:1929\\n\",\n",
    "    \"hcl:#ae17e1 iyr:2013 eyr:2024 ecl:brn pid:760753108 byr:1931 hgt:179cm\\n\",\n",
    "    \"hcl:#cfa07d eyr:2025 pid:166559648 iyr:2011 ecl:brn hgt:59in\\n\"\n",
    "]\n",
    "valid_fields = [\"byr\", \"iyr\", \"eyr\", \"hgt\", \"hcl\", \"ecl\", \"pid\"]"
   ]
  },
  {
   "cell_type": "code",
   "execution_count": 15,
   "metadata": {},
   "outputs": [
    {
     "data": {
      "text/plain": [
       "['eyr:2029', 'pid:157374862']"
      ]
     },
     "execution_count": 15,
     "metadata": {},
     "output_type": "execute_result"
    }
   ],
   "source": [
    "grid[0].strip(\"\\n\").split()"
   ]
  },
  {
   "cell_type": "code",
   "execution_count": 16,
   "metadata": {},
   "outputs": [
    {
     "data": {
      "text/plain": [
       "{'eyr': '2029', 'pid': '157374862'}"
      ]
     },
     "execution_count": 16,
     "metadata": {},
     "output_type": "execute_result"
    }
   ],
   "source": [
    "{_.split(\":\")[0]:_.split(\":\")[1] for _ in grid[0].strip(\"\\n\").split()}"
   ]
  },
  {
   "cell_type": "code",
   "execution_count": 73,
   "metadata": {},
   "outputs": [],
   "source": [
    "def validate1(passport):\n",
    "    valid_fields = [\"byr\", \"iyr\", \"eyr\", \"hgt\", \"hcl\", \"ecl\", \"pid\"]\n",
    "    for field in valid_fields:\n",
    "        try:\n",
    "            passport[field]\n",
    "        except:\n",
    "            return False\n",
    "    return True\n"
   ]
  },
  {
   "cell_type": "code",
   "execution_count": 79,
   "metadata": {},
   "outputs": [
    {
     "data": {
      "text/plain": [
       "'1 2 3 4 5'"
      ]
     },
     "execution_count": 79,
     "metadata": {},
     "output_type": "execute_result"
    }
   ],
   "source": [
    "\" \".join([\"1\",\"2\",\"3\",\"4\",\"5\"])"
   ]
  },
  {
   "cell_type": "code",
   "execution_count": 96,
   "metadata": {},
   "outputs": [],
   "source": [
    "passport_list = []\n",
    "current_string = \"\"\n",
    "for row in grid:\n",
    "    if row == \"\\n\":\n",
    "        passport_list.append(current_string)\n",
    "        current_string = \"\"\n",
    "    else:\n",
    "        current_string = \" \".join([current_string, row.strip(\"\\n\")])\n",
    "passport_list.append(current_string)"
   ]
  },
  {
   "cell_type": "code",
   "execution_count": 99,
   "metadata": {
    "scrolled": true
   },
   "outputs": [
    {
     "data": {
      "text/plain": [
       "245"
      ]
     },
     "execution_count": 99,
     "metadata": {},
     "output_type": "execute_result"
    }
   ],
   "source": [
    "sum1 = 0\n",
    "for line in passport_list:\n",
    "#     print(line)\n",
    "    passport = {entry.split(\":\")[0]:entry.split(\":\")[1] for entry in line.strip(\"\\n\").split(\" \") if entry != \"\" }\n",
    "    sum1 += validate1(passport)\n",
    "sum1"
   ]
  },
  {
   "cell_type": "markdown",
   "metadata": {},
   "source": [
    "# Part II"
   ]
  },
  {
   "cell_type": "code",
   "execution_count": 147,
   "metadata": {},
   "outputs": [],
   "source": [
    "def validate2(passport):\n",
    "    #byr\n",
    "    try:\n",
    "        if len(passport[\"byr\"]) !=4:\n",
    "            return False\n",
    "        byr = int(passport[\"byr\"])\n",
    "        if not 2002 >= byr >= 1920:\n",
    "            return False\n",
    "    except:\n",
    "        return False\n",
    "    \n",
    "    #iyr\n",
    "    try:\n",
    "        if len(passport[\"iyr\"]) !=4:\n",
    "            return False\n",
    "        iyr = int(passport[\"iyr\"])\n",
    "        if not 2020 >= iyr >= 2010:\n",
    "            return False\n",
    "    except:\n",
    "        return False\n",
    "    \n",
    "    #eyr\n",
    "    try:\n",
    "        if len(passport[\"eyr\"]) !=4:\n",
    "            return False\n",
    "        eyr = int(passport[\"eyr\"])\n",
    "        if not 2030 >= eyr >= 2020:\n",
    "            return False\n",
    "    except:\n",
    "        return False    \n",
    "    \n",
    "    #hgt\n",
    "    try:\n",
    "        hgt = passport[\"hgt\"]\n",
    "        if hgt[-2:] == \"cm\":\n",
    "            if not 150 <= int(hgt[:-2]) <= 193:\n",
    "                return False\n",
    "        elif hgt[-2:] == \"in\":\n",
    "            if not 59 <= int(hgt[:-2]) <= 76:\n",
    "                return False\n",
    "        else:\n",
    "            return False\n",
    "    except:\n",
    "        return False\n",
    "        \n",
    "    #hcl\n",
    "    try:\n",
    "        hcl = passport[\"hcl\"]\n",
    "        if hcl[0] == \"#\":\n",
    "            if len(hcl[1:]) != 6:\n",
    "                return False\n",
    "            for char in hcl[1:]:\n",
    "                if char not in \"0123456789abcdef\":\n",
    "                    return False\n",
    "        else:\n",
    "            return False\n",
    "    except:\n",
    "        return False\n",
    "    \n",
    "    #ecl\n",
    "    try:\n",
    "        ecl = passport[\"ecl\"]\n",
    "        if ecl not in [\"amb\", \"blu\", \"brn\", \"gry\", \"grn\", \"hzl\", \"oth\"]:\n",
    "            return False\n",
    "    except:\n",
    "        return False\n",
    "    \n",
    "    #pid\n",
    "    try:\n",
    "        pid = passport[\"pid\"]\n",
    "        if len(pid) != 9:\n",
    "            return False\n",
    "        for char in pid:\n",
    "            if char not in \"0123456789\":\n",
    "                return False\n",
    "    except:\n",
    "        return False\n",
    "    \n",
    "    return True\n"
   ]
  },
  {
   "cell_type": "code",
   "execution_count": 148,
   "metadata": {},
   "outputs": [
    {
     "data": {
      "text/plain": [
       "133"
      ]
     },
     "execution_count": 148,
     "metadata": {},
     "output_type": "execute_result"
    }
   ],
   "source": [
    "sum2 = 0\n",
    "for line in passport_list:\n",
    "#     print(line)\n",
    "    passport = {entry.split(\":\")[0]:entry.split(\":\")[1] for entry in line.strip(\"\\n\").split(\" \") if entry != \"\" }\n",
    "    sum2 += validate2(passport)\n",
    "sum2"
   ]
  },
  {
   "cell_type": "code",
   "execution_count": 138,
   "metadata": {},
   "outputs": [
    {
     "name": "stdout",
     "output_type": "stream",
     "text": [
      "a\n",
      "b\n",
      "c\n",
      "d\n"
     ]
    }
   ],
   "source": [
    "for char in \"abcd\":\n",
    "    print(char)"
   ]
  },
  {
   "cell_type": "code",
   "execution_count": null,
   "metadata": {},
   "outputs": [],
   "source": []
  }
 ],
 "metadata": {
  "kernelspec": {
   "display_name": "Python 3",
   "language": "python",
   "name": "python3"
  },
  "language_info": {
   "codemirror_mode": {
    "name": "ipython",
    "version": 3
   },
   "file_extension": ".py",
   "mimetype": "text/x-python",
   "name": "python",
   "nbconvert_exporter": "python",
   "pygments_lexer": "ipython3",
   "version": "3.8.3"
  }
 },
 "nbformat": 4,
 "nbformat_minor": 4
}
