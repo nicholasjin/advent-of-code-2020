{
 "cells": [
  {
   "cell_type": "markdown",
   "metadata": {},
   "source": [
    "# 07"
   ]
  },
  {
   "cell_type": "code",
   "execution_count": 14,
   "metadata": {},
   "outputs": [],
   "source": [
    "import string\n",
    "import re"
   ]
  },
  {
   "cell_type": "code",
   "execution_count": 3,
   "metadata": {},
   "outputs": [],
   "source": [
    "f = open(\"input\", \"r\")\n",
    "f = f.read()\n",
    "test = [\n",
    "    \n",
    "]"
   ]
  },
  {
   "cell_type": "code",
   "execution_count": 7,
   "metadata": {},
   "outputs": [],
   "source": [
    "rules = f.rstrip().split(\"\\n\")"
   ]
  },
  {
   "cell_type": "code",
   "execution_count": 101,
   "metadata": {},
   "outputs": [],
   "source": [
    "contained_in = {}\n",
    "for rule in rules[:]:\n",
    "    if \"no other bags\" in rule:\n",
    "        continue\n",
    "       \n",
    "    outer = rule.split(\" bags contain \")[0]\n",
    "\n",
    "    inners = rule.split(\" bags contain \")[1]\n",
    "    inners = re.findall(r\"\\d [a-z\\s]*\", inners)\n",
    "    for inner in inners:\n",
    "        color = inner.split(\"bag\")[0][2:].rstrip()\n",
    "        qty = inner.split(\"bag\")[0][0]\n",
    "        try:\n",
    "            contained_in[color].add(outer)\n",
    "        except:\n",
    "            contained_in[color] = {outer}"
   ]
  },
  {
   "cell_type": "code",
   "execution_count": 98,
   "metadata": {},
   "outputs": [],
   "source": [
    "encountered_new_color = True\n",
    "colors_to_check = contained_in[\"shiny gold\"]\n",
    "checked = set()\n",
    "while encountered_new_color:\n",
    "    encountered_new_color = False\n",
    "    next_colors_to_check = set()    \n",
    "    for color in colors_to_check:\n",
    "        if color not in checked:\n",
    "            checked.add(color)\n",
    "            try:\n",
    "                [next_colors_to_check.add(_) for _ in contained_in[color]]\n",
    "            except:\n",
    "                pass\n",
    "            encountered_new_color = True\n",
    "    colors_to_check = next_colors_to_check\n",
    "            \n",
    "    "
   ]
  },
  {
   "cell_type": "code",
   "execution_count": 100,
   "metadata": {},
   "outputs": [
    {
     "data": {
      "text/plain": [
       "355"
      ]
     },
     "execution_count": 100,
     "metadata": {},
     "output_type": "execute_result"
    }
   ],
   "source": [
    "len(checked)"
   ]
  },
  {
   "cell_type": "markdown",
   "metadata": {},
   "source": [
    "# Part II"
   ]
  },
  {
   "cell_type": "code",
   "execution_count": 7,
   "metadata": {},
   "outputs": [],
   "source": [
    "rules = f.rstrip().split(\"\\n\")"
   ]
  },
  {
   "cell_type": "code",
   "execution_count": 115,
   "metadata": {},
   "outputs": [],
   "source": [
    "contains = {}\n",
    "for rule in rules[:]:\n",
    "    if \"no other bags\" in rule:\n",
    "        continue\n",
    "       \n",
    "    outer = rule.split(\" bags contain \")[0]\n",
    "\n",
    "    inners = rule.split(\" bags contain \")[1]\n",
    "    inners = re.findall(r\"\\d [a-z\\s]*\", inners)\n",
    "    \n",
    "    value = {}\n",
    "    for inner in inners:\n",
    "        color = inner.split(\"bag\")[0][2:].rstrip()\n",
    "        qty = inner.split(\"bag\")[0][0]\n",
    "        value[color] = int(qty)\n",
    "    contains[outer] = value"
   ]
  },
  {
   "cell_type": "code",
   "execution_count": 116,
   "metadata": {},
   "outputs": [
    {
     "data": {
      "text/plain": [
       "{'clear magenta': 4,\n",
       " 'mirrored turquoise': 3,\n",
       " 'plaid maroon': 2,\n",
       " 'bright crimson': 5}"
      ]
     },
     "execution_count": 116,
     "metadata": {},
     "output_type": "execute_result"
    }
   ],
   "source": [
    "contains[\"shiny gold\"]"
   ]
  },
  {
   "cell_type": "code",
   "execution_count": 109,
   "metadata": {},
   "outputs": [
    {
     "data": {
      "text/plain": [
       "{'pale cyan': '4', 'bright teal': '2', 'striped plum': '1', 'plaid teal': '2'}"
      ]
     },
     "execution_count": 109,
     "metadata": {},
     "output_type": "execute_result"
    }
   ],
   "source": [
    "contains[\"plaid maroon\"]"
   ]
  },
  {
   "cell_type": "code",
   "execution_count": 117,
   "metadata": {},
   "outputs": [
    {
     "name": "stdout",
     "output_type": "stream",
     "text": [
      "clear magenta 4\n",
      "mirrored turquoise 3\n",
      "plaid maroon 2\n",
      "bright crimson 5\n"
     ]
    }
   ],
   "source": [
    "for key,value in contains[\"shiny gold\"].items():\n",
    "    print(key, value)"
   ]
  },
  {
   "cell_type": "code",
   "execution_count": 120,
   "metadata": {},
   "outputs": [
    {
     "data": {
      "text/plain": [
       "5312"
      ]
     },
     "execution_count": 120,
     "metadata": {},
     "output_type": "execute_result"
    }
   ],
   "source": [
    "def bags_within(color):\n",
    "    try:\n",
    "        contains[color]\n",
    "    except:\n",
    "        return 0\n",
    "    \n",
    "    return sum([value * bags_within(key) + value for key, value in contains[color].items()])\n",
    "bags_within(\"shiny gold\")"
   ]
  },
  {
   "cell_type": "code",
   "execution_count": 98,
   "metadata": {},
   "outputs": [],
   "source": [
    "encountered_new_color = True\n",
    "colors_to_check = contained_in[\"shiny gold\"]\n",
    "checked = set()\n",
    "while encountered_new_color:\n",
    "    encountered_new_color = False\n",
    "    next_colors_to_check = set()    \n",
    "    for color in colors_to_check:\n",
    "        if color not in checked:\n",
    "            checked.add(color)\n",
    "            try:\n",
    "                [next_colors_to_check.add(_) for _ in contained_in[color]]\n",
    "            except:\n",
    "                pass\n",
    "            encountered_new_color = True\n",
    "    colors_to_check = next_colors_to_check\n",
    "            \n",
    "    "
   ]
  },
  {
   "cell_type": "code",
   "execution_count": 100,
   "metadata": {},
   "outputs": [
    {
     "data": {
      "text/plain": [
       "355"
      ]
     },
     "execution_count": 100,
     "metadata": {},
     "output_type": "execute_result"
    }
   ],
   "source": [
    "len(checked)"
   ]
  }
 ],
 "metadata": {
  "kernelspec": {
   "display_name": "Python 3",
   "language": "python",
   "name": "python3"
  },
  "language_info": {
   "codemirror_mode": {
    "name": "ipython",
    "version": 3
   },
   "file_extension": ".py",
   "mimetype": "text/x-python",
   "name": "python",
   "nbconvert_exporter": "python",
   "pygments_lexer": "ipython3",
   "version": "3.8.3"
  }
 },
 "nbformat": 4,
 "nbformat_minor": 4
}
