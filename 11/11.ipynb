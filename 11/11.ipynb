{
 "cells": [
  {
   "cell_type": "markdown",
   "metadata": {},
   "source": [
    "Readers:\n",
    "Sorry, this is a bit of a trainwreck. I tried to be clever with linear algebra, failed to do so, tried to be clever to try/except statements, failed to do that, and ended up at the naive solution anyway. :))))))"
   ]
  },
  {
   "cell_type": "code",
   "execution_count": 18,
   "metadata": {},
   "outputs": [],
   "source": [
    "import string\n",
    "import re\n",
    "import os\n",
    "import numpy as np\n",
    "import matplotlib.pyplot as plt\n",
    "import gif\n",
    "from aocd import submit"
   ]
  },
  {
   "cell_type": "code",
   "execution_count": 230,
   "metadata": {},
   "outputs": [
    {
     "name": "stdout",
     "output_type": "stream",
     "text": [
      "data read successfully\n"
     ]
    }
   ],
   "source": [
    "try:\n",
    "    with open(\"input\") as f:\n",
    "        data = f.read()\n",
    "    print(\"data read successfully\")\n",
    "except:\n",
    "    from aocd import data\n",
    "    f = open(\"input\", \"w\")\n",
    "    f.write(data)\n",
    "    print(\"data imported and written successfully\")\n"
   ]
  },
  {
   "cell_type": "markdown",
   "metadata": {},
   "source": [
    "# 10\n",
    "If we need to process the data in other ways (cast to ints/floats, split on \\n\\n, etc), do so here:"
   ]
  },
  {
   "cell_type": "code",
   "execution_count": 231,
   "metadata": {},
   "outputs": [],
   "source": [
    "data = data.replace(\"L\", \"1\").replace(\".\", \"0\").split(\"\\n\")"
   ]
  },
  {
   "cell_type": "code",
   "execution_count": 4,
   "metadata": {},
   "outputs": [],
   "source": [
    "HEIGHT = len(data)\n",
    "WIDTH = len(data[0])"
   ]
  },
  {
   "cell_type": "code",
   "execution_count": 5,
   "metadata": {},
   "outputs": [],
   "source": [
    "seatmap = np.zeros([HEIGHT + 2, WIDTH + 2], dtype=\"complex\")"
   ]
  },
  {
   "cell_type": "code",
   "execution_count": 6,
   "metadata": {},
   "outputs": [],
   "source": [
    "seatmap[1:-1, 1:-1] = np.array([[int(_) for _ in list(row)] for row in data])\n",
    "original = seatmap.copy()"
   ]
  },
  {
   "cell_type": "code",
   "execution_count": 13,
   "metadata": {},
   "outputs": [],
   "source": [
    "def convolution(y, x, array):\n",
    "    total = np.sum(array[y-1:y+2, x-1:x+2]) - array[y,x]\n",
    "    if array[y,x] == 1 and np.imag(total) == 0 :\n",
    "        return 1j\n",
    "    elif array[y,x] == 1j and np.imag(total) >= 4:\n",
    "        return 1\n",
    "    else:\n",
    "        return array[y,x]"
   ]
  },
  {
   "cell_type": "code",
   "execution_count": 14,
   "metadata": {},
   "outputs": [
    {
     "name": "stderr",
     "output_type": "stream",
     "text": [
      "<ipython-input-14-92de39aaf12f>:2: ComplexWarning: Casting complex values to real discards the imaginary part\n",
      "  plt.imshow(np.array(seatmap*seatmap,float),cmap=\"coolwarm\", vmin=-1, vmax=1)\n"
     ]
    },
    {
     "data": {
      "text/plain": [
       "<matplotlib.image.AxesImage at 0x7fcd96380160>"
      ]
     },
     "execution_count": 14,
     "metadata": {},
     "output_type": "execute_result"
    },
    {
     "data": {
      "image/png": "[encoded data removed]",
      "text/plain": [
       "<Figure size 576x576 with 1 Axes>"
      ]
     },
     "metadata": {
      "needs_background": "light"
     },
     "output_type": "display_data"
    }
   ],
   "source": [
    "plt.figure(figsize=(8,8))\n",
    "plt.imshow(np.array(seatmap*seatmap,float),cmap=\"coolwarm\", vmin=-1, vmax=1)"
   ]
  },
  {
   "cell_type": "code",
   "execution_count": 19,
   "metadata": {},
   "outputs": [],
   "source": [
    "@gif.frame\n",
    "def plot(c_array):\n",
    "    plt.title(\"Iteration: \" + str(iteration))\n",
    "    plt.imshow(np.array(c_array*c_array,float),cmap=\"coolwarm\", vmin=-1, vmax=1)"
   ]
  },
  {
   "cell_type": "code",
   "execution_count": 28,
   "metadata": {
    "scrolled": true
   },
   "outputs": [
    {
     "name": "stderr",
     "output_type": "stream",
     "text": [
      "<ipython-input-19-666e81926352>:4: ComplexWarning: Casting complex values to real discards the imaginary part\n",
      "  plt.imshow(np.array(c_array*c_array,float),cmap=\"coolwarm\", vmin=-1, vmax=1)\n"
     ]
    },
    {
     "name": "stdout",
     "output_type": "stream",
     "text": [
      "True 0 (7751+0j)\n",
      "True 1 7751j\n",
      "True 2 (7602+149j)\n",
      "True 3 (405+7346j)\n",
      "True 4 (7426+325j)\n",
      "True 5 (891+6860j)\n",
      "True 6 (7269+482j)\n",
      "True 7 (1290+6461j)\n",
      "True 8 (7130+621j)\n",
      "True 9 (1635+6116j)\n",
      "True 10 (7001+750j)\n",
      "True 11 (1936+5815j)\n",
      "True 12 (6867+884j)\n",
      "True 13 (2250+5501j)\n",
      "True 14 (6720+1031j)\n",
      "True 15 (2573+5178j)\n",
      "True 16 (6584+1167j)\n",
      "True 17 (2860+4891j)\n",
      "True 18 (6462+1289j)\n",
      "True 19 (3103+4648j)\n",
      "True 20 (6356+1395j)\n",
      "True 21 (3298+4453j)\n",
      "True 22 (6262+1489j)\n",
      "True 23 (3458+4293j)\n",
      "True 24 (6193+1558j)\n",
      "True 25 (3595+4156j)\n",
      "True 26 (6134+1617j)\n",
      "True 27 (3693+4058j)\n",
      "True 28 (6086+1665j)\n",
      "True 29 (3782+3969j)\n",
      "True 30 (6049+1702j)\n",
      "True 31 (3863+3888j)\n",
      "True 32 (6010+1741j)\n",
      "True 33 (3944+3807j)\n",
      "True 34 (5974+1777j)\n",
      "True 35 (4015+3736j)\n",
      "True 36 (5942+1809j)\n",
      "True 37 (4085+3666j)\n",
      "True 38 (5907+1844j)\n",
      "True 39 (4154+3597j)\n",
      "True 40 (5871+1880j)\n",
      "True 41 (4221+3530j)\n",
      "True 42 (5828+1923j)\n",
      "True 43 (4303+3448j)\n",
      "True 44 (5791+1960j)\n",
      "True 45 (4377+3374j)\n",
      "True 46 (5757+1994j)\n",
      "True 47 (4444+3307j)\n",
      "True 48 (5729+2022j)\n",
      "True 49 (4507+3244j)\n",
      "True 50 (5700+2051j)\n",
      "True 51 (4560+3191j)\n",
      "True 52 (5678+2073j)\n",
      "True 53 (4604+3147j)\n",
      "True 54 (5659+2092j)\n",
      "True 55 (4650+3101j)\n",
      "True 56 (5632+2119j)\n",
      "True 57 (4691+3060j)\n",
      "True 58 (5607+2144j)\n",
      "True 59 (4746+3005j)\n",
      "True 60 (5583+2168j)\n",
      "True 61 (4802+2949j)\n",
      "True 62 (5556+2195j)\n",
      "True 63 (4855+2896j)\n",
      "True 64 (5528+2223j)\n",
      "True 65 (4913+2838j)\n",
      "True 66 (5506+2245j)\n",
      "True 67 (4949+2802j)\n",
      "True 68 (5489+2262j)\n",
      "True 69 (4986+2765j)\n",
      "True 70 (5470+2281j)\n",
      "True 71 (5021+2730j)\n",
      "True 72 (5450+2301j)\n",
      "True 73 (5047+2704j)\n",
      "True 74 (5438+2313j)\n",
      "True 75 (5071+2680j)\n",
      "True 76 (5427+2324j)\n",
      "True 77 (5087+2664j)\n",
      "True 78 (5420+2331j)\n",
      "True 79 (5100+2651j)\n",
      "True 80 (5412+2339j)\n",
      "True 81 (5120+2631j)\n",
      "True 82 (5403+2348j)\n",
      "True 83 (5140+2611j)\n",
      "True 84 (5391+2360j)\n",
      "True 85 (5160+2591j)\n",
      "True 86 (5383+2368j)\n",
      "True 87 (5176+2575j)\n",
      "True 88 (5374+2377j)\n",
      "True 89 (5196+2555j)\n",
      "True 90 (5366+2385j)\n",
      "True 91 (5208+2543j)\n",
      "True 92 (5361+2390j)\n",
      "True 93 (5219+2532j)\n",
      "True 94 (5356+2395j)\n",
      "True 95 (5230+2521j)\n",
      "True 96 (5351+2400j)\n",
      "True 97 (5241+2510j)\n",
      "True 98 (5346+2405j)\n",
      "True 99 (5252+2499j)\n",
      "True 100 (5341+2410j)\n",
      "True 101 (5264+2487j)\n",
      "True 102 (5338+2413j)\n",
      "True 103 (5272+2479j)\n",
      "True 104 (5334+2417j)\n",
      "True 105 (5278+2473j)\n",
      "True 106 (5330+2421j)\n",
      "True 107 (5290+2461j)\n",
      "True 108 (5324+2427j)\n",
      "True 109 (5304+2447j)\n",
      "True 110 (5317+2434j)\n",
      "True 111 (5313+2438j)\n",
      "NOTHING CHANGED\n"
     ]
    }
   ],
   "source": [
    "gif.options.matplotlib[\"dpi\"] = 300\n",
    "changing = True\n",
    "iteration = 0\n",
    "frames = []\n",
    "seatmap = original.copy()\n",
    "while changing:\n",
    "    frame = plot(seatmap)\n",
    "    frames.append(frame)\n",
    "    print(changing, iteration, seatmap.sum())\n",
    "    new_map = np.zeros([HEIGHT + 2, WIDTH + 2], dtype=\"complex\")\n",
    "    for y in range(HEIGHT):\n",
    "        for x in range(WIDTH):\n",
    "            new_map[y+1, x+1] = convolution(y+1, x+1, seatmap)\n",
    "    if np.array_equal(new_map, seatmap):\n",
    "        print(\"NOTHING CHANGED\")\n",
    "        changing = False\n",
    "    seatmap = new_map.copy()\n",
    "    iteration += 1"
   ]
  },
  {
   "cell_type": "code",
   "execution_count": 29,
   "metadata": {},
   "outputs": [],
   "source": [
    "gif.save(frames, \"evo.gif\",duration=.05, unit=\"s\")"
   ]
  },
  {
   "cell_type": "code",
   "execution_count": 30,
   "metadata": {},
   "outputs": [
    {
     "data": {
      "text/plain": [
       "(5313+2438j)"
      ]
     },
     "execution_count": 30,
     "metadata": {},
     "output_type": "execute_result"
    }
   ],
   "source": [
    "seatmap.sum()"
   ]
  },
  {
   "cell_type": "code",
   "execution_count": null,
   "metadata": {},
   "outputs": [],
   "source": [
    "submit(answer_a, part=\"a\", day=11, year=2020)"
   ]
  },
  {
   "cell_type": "markdown",
   "metadata": {},
   "source": [
    "# Part II"
   ]
  },
  {
   "cell_type": "code",
   "execution_count": 414,
   "metadata": {},
   "outputs": [],
   "source": [
    "# returns the number of cardinal directions that contain an occupied seat\n",
    "def get_diagonals(y,x, array):\n",
    "    h = array.shape[0]\n",
    "    w = array.shape[1]\n",
    "    total = 0\n",
    "        \n",
    "    # N\n",
    "    N = 0\n",
    "    for i in array[0:y,x][::-1]:\n",
    "        if i == 1:\n",
    "            break\n",
    "        elif i == 1j:\n",
    "            N += 1\n",
    "            break\n",
    "    \n",
    "    # S\n",
    "    S = 0\n",
    "    for i in array[y+1:,x]:\n",
    "        if i == 1:\n",
    "            break\n",
    "        elif i == 1j:\n",
    "            S += 1\n",
    "            break\n",
    "    # WEST\n",
    "    W = 0\n",
    "    for i in array[y,0:x][::-1]:\n",
    "        if i == 1:\n",
    "            break\n",
    "        elif i == 1j:\n",
    "            W += 1\n",
    "            break\n",
    "            \n",
    "\n",
    "    # EAST\n",
    "    E = 0\n",
    "    for i in array[y,x+1:]:\n",
    "        if i == 1:\n",
    "            break\n",
    "        elif i == 1j:\n",
    "            E += 1\n",
    "            break\n",
    "    # Diagonals (using cardinal directions)\n",
    "    #NW\n",
    "    inc = 1\n",
    "    NW = 0\n",
    "    x_n = x - inc\n",
    "    y_n = y - inc\n",
    "    in_bounds = (0 <= y_n < h and 0 <= x_n < w)\n",
    "    while in_bounds:\n",
    "        target = array[y_n, x_n]\n",
    "        if target == 1:\n",
    "            break\n",
    "        elif target == 1j:\n",
    "            NW += 1\n",
    "            break\n",
    "            \n",
    "        inc += 1\n",
    "        x_n = x - inc\n",
    "        y_n = y - inc\n",
    "        in_bounds = (0 <= y_n < h and 0 <= x_n < w)\n",
    "            \n",
    "    #NE\n",
    "    inc = 1\n",
    "    NE = 0\n",
    "    x_n = x + inc\n",
    "    y_n = y - inc\n",
    "    in_bounds = (0 <= y_n < h and 0 <= x_n < w)\n",
    "    while in_bounds:\n",
    "        target = array[y_n, x_n]\n",
    "        if target == 1:\n",
    "            break\n",
    "        elif target == 1j:\n",
    "            NE += 1\n",
    "            break\n",
    "            \n",
    "        inc += 1\n",
    "        x_n = x + inc\n",
    "        y_n = y - inc\n",
    "        in_bounds = (0 <= y_n < h and 0 <= x_n < w)\n",
    "        \n",
    "    #SE\n",
    "    inc = 1\n",
    "    SE = 0\n",
    "    x_n = x + inc\n",
    "    y_n = y + inc\n",
    "    in_bounds = (0 <= y_n < h and 0 <= x_n < w)\n",
    "    while in_bounds:\n",
    "        target = array[y_n, x_n]\n",
    "        if target == 1:\n",
    "            break\n",
    "        elif target == 1j:\n",
    "            SE += 1\n",
    "            break\n",
    "            \n",
    "        inc += 1\n",
    "        x_n = x + inc\n",
    "        y_n = y + inc\n",
    "        in_bounds = (0 <= y_n < h and 0 <= x_n < w)\n",
    "    #SW\n",
    "    inc = 1\n",
    "    SW = 0\n",
    "    x_n = x - inc\n",
    "    y_n = y + inc\n",
    "    in_bounds = (0 <= y_n < h and 0 <= x_n < w)\n",
    "    while in_bounds:\n",
    "        target = array[y_n, x_n]\n",
    "        if target == 1:\n",
    "            break\n",
    "        elif target == 1j:\n",
    "            SW += 1\n",
    "            break\n",
    "            \n",
    "        inc += 1\n",
    "        x_n = x - inc\n",
    "        y_n = y + inc\n",
    "        in_bounds = (0 <= y_n < h and 0 <= x_n < w)\n",
    "    # diagonal\n",
    "#     k = x - y\n",
    "#     diag = np.diagonal(array,k)\n",
    "    \n",
    "#     #UL\n",
    "#     ul = 0\n",
    "#     for i in diag[:y][::-1]:\n",
    "#         if i == 1:\n",
    "#             break\n",
    "#         elif i == 1j:\n",
    "#             ul += 1\n",
    "#             break\n",
    "            \n",
    "#     # DR\n",
    "#     dr = 0\n",
    "#     for i in diag[y+1:]:\n",
    "#         if i == 1:\n",
    "#             break\n",
    "#         elif i == 1j:\n",
    "#             dr += 1\n",
    "#             break\n",
    "    \n",
    "#     # anti-diagonal\n",
    "#     adiag = np.fliplr(array).diagonal(len(array[0]) - x - y - 1)\n",
    "#     #UR\n",
    "#     ur = 0\n",
    "#     for i in adiag[:y][::-1]:\n",
    "#         if i == 1:\n",
    "#             break\n",
    "#         elif i == 1j:\n",
    "#             ur += 1\n",
    "#             break\n",
    "#     #DL\n",
    "#     dl = 0\n",
    "#     for i in adiag[y+1:]:\n",
    "#         if i == 1:\n",
    "#             break\n",
    "#         elif i == 1j:\n",
    "#             dl += 1\n",
    "#             break\n",
    "        \n",
    "#     print([[ul, up, ur],[left, 0, right], [dl, down, dr]])\n",
    "#     np.array([[ul, up, ur],[left, 0, right], [dl, down, dr]])\n",
    "#     return sum(np.array([[ul, up, ur],[left, 0, right], [dl, down, dr]]))\n",
    "#         print(np.array([[NW, N, NE],[W,0,E],[SW,S,SE]]))\n",
    "#     if x == 1 and y ==1:\n",
    "#         print(np.array([[NW, N, NE],[W,0,E],[SW,S,SE]]))\n",
    "    return N + E + S + W + NE + SE + SW + NW\n",
    "\n",
    "\n",
    "def fancy_convolution(y, x, array):\n",
    "    diags = get_diagonals(y,x,array)\n",
    "    if array[y,x] == 1 and diags == 0 :\n",
    "        return 1j\n",
    "    elif array[y,x] == 1j and diags >= 5:\n",
    "        return 1 + 0j\n",
    "    else:\n",
    "        return array[y,x]\n",
    "\n",
    "@gif.frame\n",
    "def plot(c_array):\n",
    "    plt.title(\"Iteration: \" + str(iteration))\n",
    "    plt.imshow(np.array(c_array*c_array,float),cmap=\"coolwarm\", vmin=-1, vmax=1)\n",
    "#     plt.plot([0, 10], [1, 11])\n",
    "#     plt.plot([0,3], [3, 0])"
   ]
  },
  {
   "cell_type": "code",
   "execution_count": 415,
   "metadata": {},
   "outputs": [],
   "source": [
    "test_string = \"\"\"L.LL.LL.LL\n",
    "LLLLLLL.LL\n",
    "L.L.L..L..\n",
    "LLLL.LL.LL\n",
    "L.LL.LL.LL\n",
    "L.LLLLL.LL\n",
    "..L.L.....\n",
    "LLLLLLLLLL\n",
    "L.LLLLLL.L\n",
    "L.LLLLL.LL\"\"\"\n",
    "\n",
    "test = test_string.replace(\"L\", \"1\").replace(\".\", \"0\").split(\"\\n\")\n",
    "testmap = np.zeros([len(test) + 2, len(test[0]) + 2], dtype=\"complex\")\n",
    "testmap[1:-1, 1:-1] = np.array([[int(_) for _ in list(row)] for row in test])\n",
    "testmap = np.array([[int(_) for _ in list(row)] for row in test])"
   ]
  },
  {
   "cell_type": "code",
   "execution_count": 416,
   "metadata": {},
   "outputs": [
    {
     "data": {
      "text/plain": [
       "array([[1, 0, 1, 1, 0, 1, 1, 0, 1, 1],\n",
       "       [1, 1, 1, 1, 1, 1, 1, 0, 1, 1],\n",
       "       [1, 0, 1, 0, 1, 0, 0, 1, 0, 0],\n",
       "       [1, 1, 1, 1, 0, 1, 1, 0, 1, 1],\n",
       "       [1, 0, 1, 1, 0, 1, 1, 0, 1, 1],\n",
       "       [1, 0, 1, 1, 1, 1, 1, 0, 1, 1],\n",
       "       [0, 0, 1, 0, 1, 0, 0, 0, 0, 0],\n",
       "       [1, 1, 1, 1, 1, 1, 1, 1, 1, 1],\n",
       "       [1, 0, 1, 1, 1, 1, 1, 1, 0, 1],\n",
       "       [1, 0, 1, 1, 1, 1, 1, 0, 1, 1]])"
      ]
     },
     "execution_count": 416,
     "metadata": {},
     "output_type": "execute_result"
    }
   ],
   "source": [
    "testmap"
   ]
  },
  {
   "cell_type": "code",
   "execution_count": 417,
   "metadata": {
    "scrolled": true
   },
   "outputs": [
    {
     "name": "stderr",
     "output_type": "stream",
     "text": [
      "<ipython-input-414-bdc74d4e50fa>:179: ComplexWarning: Casting complex values to real discards the imaginary part\n",
      "  plt.imshow(np.array(c_array*c_array,float),cmap=\"coolwarm\", vmin=-1, vmax=1)\n"
     ]
    },
    {
     "name": "stdout",
     "output_type": "stream",
     "text": [
      "Iteration:  0 (7751+0j)\n",
      "Iteration:  1 7751j\n",
      "Iteration:  2 (7746+5j)\n",
      "Iteration:  3 (14+7737j)\n",
      "Iteration:  4 (7738+13j)\n",
      "Iteration:  5 (38+7713j)\n",
      "Iteration:  6 (7726+25j)\n",
      "Iteration:  7 (74+7677j)\n",
      "Iteration:  8 (7710+41j)\n",
      "Iteration:  9 (126+7625j)\n",
      "Iteration:  10 (7689+62j)\n",
      "Iteration:  11 (187+7564j)\n",
      "Iteration:  12 (7663+88j)\n",
      "Iteration:  13 (260+7491j)\n",
      "Iteration:  14 (7631+120j)\n",
      "Iteration:  15 (345+7406j)\n",
      "Iteration:  16 (7597+154j)\n",
      "Iteration:  17 (436+7315j)\n",
      "Iteration:  18 (7556+195j)\n",
      "Iteration:  19 (538+7213j)\n",
      "Iteration:  20 (7512+239j)\n",
      "Iteration:  21 (659+7092j)\n",
      "Iteration:  22 (7466+285j)\n",
      "Iteration:  23 (783+6968j)\n",
      "Iteration:  24 (7418+333j)\n",
      "Iteration:  25 (922+6829j)\n",
      "Iteration:  26 (7363+388j)\n",
      "Iteration:  27 (1077+6674j)\n",
      "Iteration:  28 (7298+453j)\n",
      "Iteration:  29 (1250+6501j)\n",
      "Iteration:  30 (7230+521j)\n",
      "Iteration:  31 (1441+6310j)\n",
      "Iteration:  32 (7161+590j)\n",
      "Iteration:  33 (1639+6112j)\n",
      "Iteration:  34 (7084+667j)\n",
      "Iteration:  35 (1846+5905j)\n",
      "Iteration:  36 (7007+744j)\n",
      "Iteration:  37 (2051+5700j)\n",
      "Iteration:  38 (6929+822j)\n",
      "Iteration:  39 (2268+5483j)\n",
      "Iteration:  40 (6845+906j)\n",
      "Iteration:  41 (2506+5245j)\n",
      "Iteration:  42 (6754+997j)\n",
      "Iteration:  43 (2734+5017j)\n",
      "Iteration:  44 (6661+1090j)\n",
      "Iteration:  45 (2963+4788j)\n",
      "Iteration:  46 (6570+1181j)\n",
      "Iteration:  47 (3197+4554j)\n",
      "Iteration:  48 (6477+1274j)\n",
      "Iteration:  49 (3423+4328j)\n",
      "Iteration:  50 (6389+1362j)\n",
      "Iteration:  51 (3636+4115j)\n",
      "Iteration:  52 (6311+1440j)\n",
      "Iteration:  53 (3835+3916j)\n",
      "Iteration:  54 (6237+1514j)\n",
      "Iteration:  55 (4023+3728j)\n",
      "Iteration:  56 (6171+1580j)\n",
      "Iteration:  57 (4187+3564j)\n",
      "Iteration:  58 (6112+1639j)\n",
      "Iteration:  59 (4345+3406j)\n",
      "Iteration:  60 (6040+1711j)\n",
      "Iteration:  61 (4510+3241j)\n",
      "Iteration:  62 (5976+1775j)\n",
      "Iteration:  63 (4663+3088j)\n",
      "Iteration:  64 (5928+1823j)\n",
      "Iteration:  65 (4786+2965j)\n",
      "Iteration:  66 (5877+1874j)\n",
      "Iteration:  67 (4911+2840j)\n",
      "Iteration:  68 (5829+1922j)\n",
      "Iteration:  69 (5027+2724j)\n",
      "Iteration:  70 (5790+1961j)\n",
      "Iteration:  71 (5120+2631j)\n",
      "Iteration:  72 (5752+1999j)\n",
      "Iteration:  73 (5206+2545j)\n",
      "Iteration:  74 (5719+2032j)\n",
      "Iteration:  75 (5284+2467j)\n",
      "Iteration:  76 (5687+2064j)\n",
      "Iteration:  77 (5359+2392j)\n",
      "Iteration:  78 (5660+2091j)\n",
      "Iteration:  79 (5425+2326j)\n",
      "Iteration:  80 (5636+2115j)\n",
      "Iteration:  81 (5478+2273j)\n",
      "Iteration:  82 (5616+2135j)\n",
      "Iteration:  83 (5516+2235j)\n",
      "Iteration:  84 (5599+2152j)\n",
      "Iteration:  85 (5550+2201j)\n",
      "Iteration:  86 (5584+2167j)\n",
      "Iteration:  87 (5571+2180j)\n",
      "Iteration:  88 (5577+2174j)\n",
      "NOTHING CHANGED\n"
     ]
    }
   ],
   "source": [
    "gif.options.matplotlib[\"dpi\"] = 300\n",
    "changing = True\n",
    "iteration = 0\n",
    "frames = []\n",
    "seatmap = original.copy()\n",
    "while changing:\n",
    "    frame = plot(seatmap)\n",
    "    frames.append(frame)\n",
    "    print(\"Iteration: \", iteration, seatmap.sum())\n",
    "    new_map = np.zeros(seatmap.shape, dtype=\"complex\")\n",
    "    for y in range(seatmap.shape[0]):\n",
    "        for x in range(seatmap.shape[1]):\n",
    "            new_map[y, x] = fancy_convolution(y, x, seatmap)\n",
    "    if np.array_equal(new_map, seatmap):\n",
    "        print(\"NOTHING CHANGED\")\n",
    "        changing = False\n",
    "    seatmap = new_map.copy()\n",
    "    iteration += 1"
   ]
  },
  {
   "cell_type": "code",
   "execution_count": 419,
   "metadata": {},
   "outputs": [],
   "source": [
    "gif.save(frames, \"evo2.gif\",duration=0.1, unit=\"s\")"
   ]
  },
  {
   "cell_type": "code",
   "execution_count": 68,
   "metadata": {},
   "outputs": [
    {
     "name": "stderr",
     "output_type": "stream",
     "text": [
      "wrong answer: 2844\n"
     ]
    },
    {
     "name": "stdout",
     "output_type": "stream",
     "text": [
      "\u001b[31mThat's not the right answer; your answer is too high.  If you're stuck, make sure you're using the full input data; there are also some general tips on the about page, or you can ask for hints on the subreddit.  Please wait one minute before trying again. (You guessed 2844.) [Return to Day 11]\u001b[0m\n"
     ]
    },
    {
     "data": {
      "text/plain": [
       "<Response [200]>"
      ]
     },
     "execution_count": 68,
     "metadata": {},
     "output_type": "execute_result"
    }
   ],
   "source": [
    "submit(2174, part=\"b\", day=11, year=2020)"
   ]
  },
  {
   "cell_type": "markdown",
   "metadata": {},
   "source": [
    "# Pen and paper\n",
    "For a matrix $M$, at index $(i,j)$, find:\n",
    "1. The diagonal and anti-diagonal\n",
    "2. The partitions of each\n",
    "\n",
    "## 1a. Diagonal\n",
    "The diagonal consists of all terms\n",
    "$M_{a,a+k}$, where $k$ is the diagonal $k = x -y$, and $a$ runs from  \n",
    "## 2. What is the relationship between the offset $k$, the indices $(i,j)$, and the splitting point $s$?"
   ]
  },
  {
   "cell_type": "code",
   "execution_count": null,
   "metadata": {},
   "outputs": [],
   "source": []
  }
 ],
 "metadata": {
  "kernelspec": {
   "display_name": "Python 3",
   "language": "python",
   "name": "python3"
  },
  "language_info": {
   "codemirror_mode": {
    "name": "ipython",
    "version": 3
   },
   "file_extension": ".py",
   "mimetype": "text/x-python",
   "name": "python",
   "nbconvert_exporter": "python",
   "pygments_lexer": "ipython3",
   "version": "3.8.3"
  }
 },
 "nbformat": 4,
 "nbformat_minor": 4
}
